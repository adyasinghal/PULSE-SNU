{
  "nbformat": 4,
  "nbformat_minor": 0,
  "metadata": {
    "colab": {
      "provenance": []
    },
    "kernelspec": {
      "name": "python3",
      "display_name": "Python 3"
    },
    "language_info": {
      "name": "python"
    }
  },
  "cells": [
    {
      "cell_type": "markdown",
      "source": [
        "# Python for Beginners: Lists and Sets  \n",
        "*Storing and Managing Multiple Values in Python*  \n",
        "\n",
        "---\n",
        "\n",
        "## Introduction to Collections  \n",
        "So far, you've worked with variables that store single values:\n",
        "\n",
        "```python\n",
        "student_name = \"Alex\"  # String variable\n",
        "student_age = 20       # Integer variable\n",
        "is_enrolled = True    # Boolean variable\n",
        "```\n",
        "\n",
        "But what if you want to store multiple values in one variable?\n",
        "\n",
        "Python provides Lists and Sets to handle collections of data.\n"
      ],
      "metadata": {
        "id": "qmDygiWZuyWd"
      }
    },
    {
      "cell_type": "markdown",
      "source": [
        "# 1. Lists in Python\n",
        "*1.1 What is a List?*\n",
        "\n",
        "A list is an ordered, mutable collection of items that:\n",
        "\n",
        "   * Can contain different data types\n",
        "\n",
        "   * Allows duplicate values\n",
        "\n",
        "   * Maintains insertion order\n",
        "\n",
        "---\n",
        "*1.2 Creating Lists*\n",
        "```python\n",
        "# List of strings\n",
        "fruits = [\"apple\", \"banana\", \"cherry\"]\n",
        "\n",
        "# List of numbers\n",
        "primes = [2, 3, 5, 7, 11]\n",
        "\n",
        "# Mixed data types\n",
        "employee_record = [\"John Doe\", 35, \"Developer\", True]\n",
        "\n",
        "# Empty list\n",
        "empty_list = []\n",
        "```\n",
        "\n",
        "---\n",
        "*1.3 Accessing List Elements*\n",
        "Lists use zero-based indexing"
      ],
      "metadata": {
        "id": "olZQ2Yxov6sa"
      }
    },
    {
      "cell_type": "code",
      "source": [
        "colors = [\"red\", \"green\", \"blue\", \"yellow\"]\n",
        "\n",
        "print(colors[0])   # First item: \"red\"\n",
        "print(colors[2])   # Third item: \"blue\"\n",
        "print(colors[-1])  # Last item: \"yellow\" (negative indexing)"
      ],
      "metadata": {
        "colab": {
          "base_uri": "https://localhost:8080/"
        },
        "id": "cl0cCghrwGXA",
        "outputId": "e088ffb0-3367-454e-a495-6f04b4694282"
      },
      "execution_count": 1,
      "outputs": [
        {
          "output_type": "stream",
          "name": "stdout",
          "text": [
            "red\n",
            "blue\n",
            "yellow\n"
          ]
        }
      ]
    },
    {
      "cell_type": "markdown",
      "source": [],
      "metadata": {
        "id": "CyCUklsJuwl9"
      }
    },
    {
      "cell_type": "markdown",
      "source": [
        "---\n",
        "*1.4 Modifying List Elements*\n",
        "\n",
        "Lists are \"mutable\" - you can change their contents:"
      ],
      "metadata": {
        "id": "l9j8HEi1whea"
      }
    },
    {
      "cell_type": "code",
      "source": [
        "colors[1] = \"emerald\"  # Change second element\n",
        "print(colors)  # [\"red\", \"emerald\", \"blue\", \"yellow\"]"
      ],
      "metadata": {
        "id": "z3BKqbQ7wipJ"
      },
      "execution_count": null,
      "outputs": []
    },
    {
      "cell_type": "markdown",
      "source": [
        "---\n",
        "*1.5 Important List Methods*\n",
        "\n",
        "`Adding Elements`"
      ],
      "metadata": {
        "id": "FQVMtj0Iwp5u"
      }
    },
    {
      "cell_type": "code",
      "source": [
        "colors.append(\"purple\")  # Adds to end\n",
        "colors.insert(1, \"pink\") # Inserts at index 1\n",
        "print(colors)  # [\"red\", \"pink\", \"emerald\", \"blue\", \"yellow\", \"purple\"]"
      ],
      "metadata": {
        "id": "vL_vPFMYwrbY"
      },
      "execution_count": null,
      "outputs": []
    },
    {
      "cell_type": "markdown",
      "source": [
        "`Removing Elements`"
      ],
      "metadata": {
        "id": "kjBOXbOtwxZr"
      }
    },
    {
      "cell_type": "code",
      "source": [
        "colors.remove(\"blue\")    # Removes first occurrence of \"blue\"\n",
        "popped = colors.pop(2)   # Removes and returns item at index 2 (\"emerald\")\n",
        "print(colors)  # [\"red\", \"pink\", \"yellow\", \"purple\"]\n",
        "print(popped)  # \"emerald\""
      ],
      "metadata": {
        "id": "lM6oBnFhw1Ek"
      },
      "execution_count": null,
      "outputs": []
    },
    {
      "cell_type": "markdown",
      "source": [
        "`Other useful methods`"
      ],
      "metadata": {
        "id": "2T6ZPvEmw_Yd"
      }
    },
    {
      "cell_type": "code",
      "source": [
        "numbers = [5, 2, 8, 2, 1]\n",
        "\n",
        "numbers.sort() # Sorts in place: [1, 2, 2, 5, 8]\n",
        "print(numbers)\n",
        "numbers.reverse() # Reverses order: [8, 5, 2, 2, 1]\n",
        "print(numbers)\n",
        "count = numbers.count(2) # Counts occurrences of 2: 2\n",
        "print(count)\n",
        "length = len(numbers)    # Gets length: 5\n",
        "print(length)"
      ],
      "metadata": {
        "id": "MoY8k6I3xEFi"
      },
      "execution_count": null,
      "outputs": []
    },
    {
      "cell_type": "markdown",
      "source": [
        "---\n",
        "\n",
        "*1.6 List Slicing*"
      ],
      "metadata": {
        "id": "-86ySGcRxJBq"
      }
    },
    {
      "cell_type": "code",
      "source": [
        "letters = ['a', 'b', 'c', 'd', 'e', 'f']\n",
        "\n",
        "print(letters[1:4])  # ['b', 'c', 'd'] (index 1 to 3)\n",
        "print(letters[:3])   # ['a', 'b', 'c'] (start to index 2)\n",
        "print(letters[3:])   # ['d', 'e', 'f'] (index 3 to end)\n",
        "print(letters[::2])  # ['a', 'c', 'e'] (every second item)"
      ],
      "metadata": {
        "id": "RZ31WkElxM40"
      },
      "execution_count": null,
      "outputs": []
    },
    {
      "cell_type": "markdown",
      "source": [
        "# 2. Sets in Python\n",
        "\n",
        "*2.1 What is a Set?*\n",
        "\n",
        "A set is an unordered, mutable collection that:\n",
        "\n",
        "* Contains only unique elements\n",
        "\n",
        "* Doesn't maintain insertion order\n",
        "\n",
        "* Optimized for membership tests\n",
        "\n",
        "---\n",
        "*2.2 Creating Sets*\n"
      ],
      "metadata": {
        "id": "tUNaTtaxxRS1"
      }
    },
    {
      "cell_type": "code",
      "source": [
        "# Set of strings\n",
        "vowels = {'a', 'e', 'i', 'o', 'u'}\n",
        "\n",
        "# Set from a list (removes duplicates)\n",
        "numbers = set([1, 2, 2, 3, 3, 3])# {1, 2, 3}\n",
        "print(numbers)\n",
        "\n",
        "# Empty set\n",
        "empty_set = set()  # Note: {} creates an empty dictionary!"
      ],
      "metadata": {
        "id": "sgPDFm0axUQZ"
      },
      "execution_count": null,
      "outputs": []
    },
    {
      "cell_type": "markdown",
      "source": [
        "---\n",
        "*2.3 Set Operations*\n",
        "\n",
        "* Adding/Removing Elements"
      ],
      "metadata": {
        "id": "SadoRn8TxZBq"
      }
    },
    {
      "cell_type": "code",
      "source": [
        "vowels.add('y')# Adds 'y' to the set\n",
        "print(vowels)\n",
        "vowels.remove('i')    # Removes 'i' (raises error if missing)\n",
        "print(vowels)\n",
        "vowels.discard('x')   # Removes 'x' if present (no error)\n",
        "popped = vowels.pop() # Removes and returns arbitrary element\n",
        "print(popped)"
      ],
      "metadata": {
        "id": "bsw_LzxixZ4k"
      },
      "execution_count": null,
      "outputs": []
    },
    {
      "cell_type": "markdown",
      "source": [
        "* Set Theory Operations"
      ],
      "metadata": {
        "id": "LipYFTvGxiH5"
      }
    },
    {
      "cell_type": "code",
      "source": [
        "A = {1, 2, 3, 4}\n",
        "B = {3, 4, 5, 6}\n",
        "\n",
        "print(A | B)  # Union: {1, 2, 3, 4, 5, 6}\n",
        "print(A & B)  # Intersection: {3, 4}\n",
        "print(A - B)  # Difference: {1, 2}\n",
        "print(A ^ B)  # Symmetric difference: {1, 2, 5, 6}"
      ],
      "metadata": {
        "id": "vm9U02GLxipO"
      },
      "execution_count": null,
      "outputs": []
    },
    {
      "cell_type": "markdown",
      "source": [
        "---\n",
        "*2.4 Important Set Methods*"
      ],
      "metadata": {
        "id": "5olBuKGcxoMb"
      }
    },
    {
      "cell_type": "code",
      "source": [
        "s = {1, 2, 3}\n",
        "\n",
        "s.update([4, 5]) # Add multiple items: {1, 2, 3, 4, 5}\n",
        "print(s)\n",
        "s.clear()            # Remove all elements: set()\n",
        "print(s)\n",
        "print(2 in s)        # Membership test: False\n",
        "print(len(s))        # Number of elements: 0"
      ],
      "metadata": {
        "id": "LbUP8xjxxovU"
      },
      "execution_count": null,
      "outputs": []
    },
    {
      "cell_type": "markdown",
      "source": [
        " * Visit https://www.geeksforgeeks.org/python/python-data-structures/ for more detailed information on lists, sets or other data structures"
      ],
      "metadata": {
        "id": "bGTaJHcpxzza"
      }
    }
  ]
}