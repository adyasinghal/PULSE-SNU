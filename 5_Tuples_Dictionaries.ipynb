{
  "nbformat": 4,
  "nbformat_minor": 0,
  "metadata": {
    "colab": {
      "provenance": []
    },
    "kernelspec": {
      "name": "python3",
      "display_name": "Python 3"
    },
    "language_info": {
      "name": "python"
    }
  },
  "cells": [
    {
      "cell_type": "markdown",
      "source": [
        "# Tuples"
      ],
      "metadata": {
        "id": "L5oZjTsR84Sd"
      }
    },
    {
      "cell_type": "markdown",
      "source": [
        "A tuple is an ordered sequence of elements of different\n",
        "data types, such as integer, float, string, list or even a\n",
        "tuple. Elements of a tuple are enclosed in parenthesis\n",
        "(round brackets) and are separated by commas. Like list\n",
        "and string, elements of a tuple can be accessed using\n",
        "index values, starting from 0."
      ],
      "metadata": {
        "id": "WVYs6K9apQf_"
      }
    },
    {
      "cell_type": "markdown",
      "source": [
        "A TUPLE IS A SEQUENCE OF IMMUTABLE PYTHON OBJECTS.\n",
        "\n",
        "However, an element of a tuple may be of mutable type, eg. a list"
      ],
      "metadata": {
        "id": "-d1xaL12pX5k"
      }
    },
    {
      "cell_type": "markdown",
      "metadata": {
        "id": "tl-I5c4k8KUt"
      },
      "source": [
        "**All functions of list work on tuples too**\n",
        "\n",
        "\n",
        "*   len()\n",
        "*   count()\n",
        "*   index()\n",
        "*   max()\n",
        "*   min()\n",
        "*   sum()\n",
        "*   sorted() - Sorts the tuple but does not make any change in the original tuple\n",
        "\n",
        "\n",
        "\n",
        "\n"
      ]
    },
    {
      "cell_type": "code",
      "metadata": {
        "colab": {
          "base_uri": "https://localhost:8080/",
          "height": 51
        },
        "outputId": "30fb8a20-5289-47d9-844f-b7d9d87b6d8b",
        "id": "lGsN9F6N8KUt"
      },
      "source": [
        "tup_a = tuple()                         #empty tuple\n",
        "tup1 = ('physics', 'chemistry', 1997, 2000)\n",
        "tup2 = (1, 2, 3, 4, 5 )\n",
        "tup3 = (\"a\", \"b\", \"c\", \"d\")\n",
        "print(\"tup1[0]: \", tup1[0])\n",
        "print(\"tup2[1:5]: \", tup2[1:5])   #tuple slicing"
      ],
      "execution_count": null,
      "outputs": [
        {
          "output_type": "stream",
          "text": [
            "tup1[0]:  physics\n",
            "tup2[1:5]:  (2, 3, 4, 5)\n"
          ],
          "name": "stdout"
        }
      ]
    },
    {
      "cell_type": "code",
      "source": [
        "#TUPLE ASSIGNMENT\n",
        "\n",
        "(num1,num2)=(10,20)\n",
        "print(num1)\n",
        "print(num2)\n",
        "\n",
        "record = ( \"Pooja\",40,\"CS\")\n",
        "(name,rollNo,subject) = record\n",
        "print(name)\n",
        "print(rollNo)\n",
        "print(subject)\n"
      ],
      "metadata": {
        "colab": {
          "base_uri": "https://localhost:8080/"
        },
        "id": "Ta_1RWFCrCDF",
        "outputId": "7231fe7d-98ad-425e-8c92-04fb71bdad60"
      },
      "execution_count": 1,
      "outputs": [
        {
          "output_type": "stream",
          "name": "stdout",
          "text": [
            "10\n",
            "20\n",
            "Pooja\n",
            "40\n",
            "CS\n"
          ]
        }
      ]
    },
    {
      "cell_type": "code",
      "metadata": {
        "colab": {
          "base_uri": "https://localhost:8080/",
          "height": 34
        },
        "outputId": "5a11180b-4964-48ba-ba42-5e01b9f6e649",
        "id": "W77UcVBe8KUu"
      },
      "source": [
        "#Tuple concatenation using + operator\n",
        "tup3=('Red', 'Blue', 'Green')\n",
        "tup4=(1,2,3,'Magenta')\n",
        "tup5=tup3+tup4\n",
        "print (tup5)"
      ],
      "execution_count": null,
      "outputs": [
        {
          "output_type": "stream",
          "text": [
            "('Red', 'Blue', 'Green', 1, 2, 3, 'Magenta')\n"
          ],
          "name": "stdout"
        }
      ]
    },
    {
      "cell_type": "markdown",
      "source": [
        "If there is only a single element in a tuple then the\n",
        "element should be followed by a comma. If we assign the\n",
        "value without comma it is treated as integer."
      ],
      "metadata": {
        "id": "7ZtPj_5gpv15"
      }
    },
    {
      "cell_type": "code",
      "metadata": {
        "colab": {
          "base_uri": "https://localhost:8080/",
          "height": 136
        },
        "outputId": "48451c34-9af5-45d9-a0f7-1fd033f4c07d",
        "id": "5sGGrhmg8KUu"
      },
      "source": [
        "#adding elements to a tuple\n",
        "t = tuple()\n",
        "n=eval(input(\"Enter the number of elements:\"))\n",
        "for i in range(n):\n",
        "  a=eval(input(\"Enter a number\"))\n",
        "  t = t + (a,)  #also called tuple extending using concatenation operator\n",
        "print(t)"
      ],
      "execution_count": null,
      "outputs": [
        {
          "output_type": "stream",
          "text": [
            "Enter the numner of elements:5\n",
            "Enter a number1\n",
            "Enter a number2\n",
            "Enter a number3\n",
            "Enter a number4\n",
            "Enter a number5\n",
            "(1, 2, 3, 4, 5)\n"
          ],
          "name": "stdout"
        }
      ]
    },
    {
      "cell_type": "markdown",
      "source": [
        "###**Difference between List and tuples**\n",
        "\n",
        "**List**\n",
        "1. Is mutable.\n",
        "2. Generally used to store elements of the same data types.\n",
        "3. Iterating through a list is slower than in a tuple.\n",
        "\n",
        "**Tuple**\n",
        "1. Is immutable\n",
        "2. Generally used to store elements of different data types.\n",
        "3. Iteration through a tuple is faster as compared to a list."
      ],
      "metadata": {
        "id": "6Py8cdGT8KUv"
      }
    },
    {
      "cell_type": "markdown",
      "source": [
        "### Nested Tuples"
      ],
      "metadata": {
        "id": "jPpFaYCV2TZG"
      }
    },
    {
      "cell_type": "code",
      "source": [
        "st=((101,\"Aman\",98),(102,\"Geet\",95),(103,\"Sahil\",87),(104,\"Pawan\",79))\n",
        "print(\"S_No\",\" Roll_No\",\" Name\",\" Marks\")\n",
        "for i in range(0,len(st)):\n",
        "  print((i+1),'\\t',st[i][0],'\\t',st[i][1],'\\t',st[i][2])"
      ],
      "metadata": {
        "colab": {
          "base_uri": "https://localhost:8080/"
        },
        "id": "GrnBbBk02XYs",
        "outputId": "f23090e7-29f8-47d7-b82b-dba881069004"
      },
      "execution_count": null,
      "outputs": [
        {
          "output_type": "stream",
          "name": "stdout",
          "text": [
            "S_No  Roll_No  Name  Marks\n",
            "1 \t 101 \t Aman \t 98\n",
            "2 \t 102 \t Geet \t 95\n",
            "3 \t 103 \t Sahil \t 87\n",
            "4 \t 104 \t Pawan \t 79\n"
          ]
        }
      ]
    },
    {
      "cell_type": "markdown",
      "source": [
        "# Dictionaries"
      ],
      "metadata": {
        "id": "CDU6osFp-cwq"
      }
    },
    {
      "cell_type": "markdown",
      "source": [
        "A dictionary is a set of key: value pairs, with the requirement that the keys are unique (within one dictionary)\n",
        "\n",
        "Dictionaries are ordered and mutable.  \n",
        "\n",
        "Keys are immutable.  "
      ],
      "metadata": {
        "id": "U_lDn1cd-6jI"
      }
    },
    {
      "cell_type": "code",
      "metadata": {
        "id": "tNnt5eSYCOUn",
        "colab": {
          "base_uri": "https://localhost:8080/",
          "height": 34
        },
        "outputId": "39f10d3d-4168-4081-eb39-211ea0601845"
      },
      "source": [
        "#creating a simple dictionary\n",
        "thisdict = {\n",
        "  \"brand\": \"Ford\",\n",
        "  \"model\": \"Mustang\",\n",
        "  \"year\": 1964\n",
        "}\n",
        "print(thisdict)"
      ],
      "execution_count": null,
      "outputs": [
        {
          "output_type": "stream",
          "text": [
            "{'brand': 'Ford', 'model': 'Mustang', 'year': 1964}\n"
          ],
          "name": "stdout"
        }
      ]
    },
    {
      "cell_type": "code",
      "metadata": {
        "id": "3jRGONnpCV-N",
        "colab": {
          "base_uri": "https://localhost:8080/",
          "height": 68
        },
        "outputId": "9c19d27c-f901-411f-ce02-e2f82ece50c7"
      },
      "source": [
        "#Traversing a dictionary\n",
        "for x in thisdict:\n",
        "  print(x,':',thisdict[x])"
      ],
      "execution_count": null,
      "outputs": [
        {
          "output_type": "stream",
          "text": [
            "brand : Ford\n",
            "model : Mustang\n",
            "year : 1964\n"
          ],
          "name": "stdout"
        }
      ]
    },
    {
      "cell_type": "code",
      "metadata": {
        "id": "bwCtXsYds2Zo",
        "colab": {
          "base_uri": "https://localhost:8080/",
          "height": 34
        },
        "outputId": "e08e49a0-22fd-4556-e6a4-730e2df433bb"
      },
      "source": [
        "#Adding a new item in a dictionary\n",
        "dict1={'Manish':95,'Amit':89,'Pranav':92,'Sangeeta':85}\n",
        "dict1['Meena']=78   #new key:value pair to be added\n",
        "print(dict1)"
      ],
      "execution_count": null,
      "outputs": [
        {
          "output_type": "stream",
          "text": [
            "{'Manish': 95, 'Amit': 89, 'Pranav': 92, 'Sangeeta': 85, 'Meena': 78}\n"
          ],
          "name": "stdout"
        }
      ]
    },
    {
      "cell_type": "code",
      "metadata": {
        "id": "_k6Vog6Vt3Fe",
        "colab": {
          "base_uri": "https://localhost:8080/"
        },
        "outputId": "c36bda68-8382-497d-b533-60877c19e4fd"
      },
      "source": [
        "#Modifying an existing item in a dictionary\n",
        "dict1={'Manish':95,'Amit':89,'Pranav':92,'Sangeeta':85}\n",
        "dict1['Amit']=78   #marks are changed\n",
        "print(dict1)"
      ],
      "execution_count": null,
      "outputs": [
        {
          "output_type": "stream",
          "text": [
            "{'Manish': 95, 'Amit': 78, 'Pranav': 92, 'Sangeeta': 85}\n"
          ],
          "name": "stdout"
        }
      ]
    },
    {
      "cell_type": "markdown",
      "metadata": {
        "id": "1ChIKvr9uRx1"
      },
      "source": [
        "**Dictionary methods and built in functions**\n",
        "\n",
        "*   len() - returns the number of key:value pairs in the dictionary\n",
        "*   dict() - creates an empty dictionary\n",
        "*   keys() - returns a list of keys in the dictionary\n",
        "*   items() - returns a list of tuples (key-value) pair\n",
        "*   get() - returns the value corresponding to the key passed as the argument. If the key is not present, it will return none.\n",
        "*   update() - appends the key-value pair to the dictionary\n",
        "*   del() - deletes the item with the given key"
      ]
    },
    {
      "cell_type": "code",
      "metadata": {
        "id": "bO1T2YWtxjEE",
        "colab": {
          "base_uri": "https://localhost:8080/",
          "height": 104
        },
        "outputId": "c1bdb1e4-de64-467d-83ce-c5aafae7483c"
      },
      "source": [
        "#examples of the above methods/functions\n",
        "dict1={'Manish':95,'Amit':89,'Pranav':92,'Sangeeta':85}\n",
        "print(dict1.keys())\n",
        "print(dict1.values())\n",
        "print(dict1.items())\n",
        "print(dict1.get('Sangeeta')) #print(dict1['Sangeeta'])\n",
        "del dict1['Manish']    # to delete the dictionary give del dict1\n",
        "print(dict1)"
      ],
      "execution_count": null,
      "outputs": [
        {
          "output_type": "stream",
          "text": [
            "dict_keys(['Manish', 'Amit', 'Pranav', 'Sangeeta'])\n",
            "dict_values([95, 89, 92, 85])\n",
            "dict_items([('Manish', 95), ('Amit', 89), ('Pranav', 92), ('Sangeeta', 85)])\n",
            "85\n",
            "{'Amit': 89, 'Pranav': 92, 'Sangeeta': 85}\n"
          ],
          "name": "stdout"
        }
      ]
    },
    {
      "cell_type": "code",
      "metadata": {
        "id": "nLvoe85s0Rxu",
        "colab": {
          "base_uri": "https://localhost:8080/"
        },
        "outputId": "e8f4f2cf-2d67-4073-da06-23006623f9f1"
      },
      "source": [
        "#Testing Membership -using in/not in\n",
        "squares = {1: 1, 3: 9, 5: 25, 7: 49, 9: 81}\n",
        "print(1 in squares)\n",
        "print(2 not in squares)\n",
        "# membership tests for key only not value\n",
        "print(49 in squares)"
      ],
      "execution_count": null,
      "outputs": [
        {
          "output_type": "stream",
          "name": "stdout",
          "text": [
            "True\n",
            "True\n",
            "False\n"
          ]
        }
      ]
    },
    {
      "cell_type": "code",
      "source": [
        "#Write a program to enter names of employees and their salaries\n",
        "#and store them in a dictionary.\n",
        "\n",
        "def empdict(n):\n",
        "  dict1={}\n",
        "  for i in range(n):\n",
        "    name=input(\"Enter name of employee: \")\n",
        "    sal=int(input(\"Enter salary: \"))\n",
        "    dict1[name]=sal\n",
        "  print(dict1)\n",
        "\n",
        "n=int(input(\"Enter no. of employees: \"))\n",
        "empdict(n)"
      ],
      "metadata": {
        "id": "CmowI8wkonsq",
        "colab": {
          "base_uri": "https://localhost:8080/"
        },
        "outputId": "2790b0cf-898e-420e-dedc-31e0b0035d49"
      },
      "execution_count": null,
      "outputs": [
        {
          "output_type": "stream",
          "name": "stdout",
          "text": [
            "Enter no. of employees: 2\n",
            "Enter name of employee: a\n",
            "Enter salary: 1000\n",
            "Enter name of employee: b\n",
            "Enter salary: 1500\n",
            "{'a': 1000, 'b': 1500}\n"
          ]
        }
      ]
    },
    {
      "cell_type": "markdown",
      "metadata": {
        "id": "i-vQHYrhYXwg"
      },
      "source": [
        "###**Nested Dictionary**\n",
        "*   Nested dictionary is an unordered collection of dictionary\n",
        "*   Slicing Nested Dictionary is not possible.\n",
        "*   We can shrink or grow nested dictionary as need.\n",
        "*   Like Dictionary, it also has key and value.\n",
        "*   Dictionary are accessed using key.\n",
        "\n"
      ]
    },
    {
      "cell_type": "code",
      "source": [
        "student = {\n",
        "    'name': 'Alice',\n",
        "    'grades': {\n",
        "        'math': 95,\n",
        "        'science': 88\n",
        "    }\n",
        "}\n",
        "\n",
        "print(\"Student: \" + student['name'])\n",
        "print(\"Math Grade: \" + str(student['grades']['math']))"
      ],
      "metadata": {
        "colab": {
          "base_uri": "https://localhost:8080/"
        },
        "id": "pW-JwIpQAiyg",
        "outputId": "56c4faac-689c-4b2b-eba8-ec26a23aec6b"
      },
      "execution_count": 2,
      "outputs": [
        {
          "output_type": "stream",
          "name": "stdout",
          "text": [
            "Student: Alice\n",
            "Math Grade: 95\n"
          ]
        }
      ]
    }
  ]
}
