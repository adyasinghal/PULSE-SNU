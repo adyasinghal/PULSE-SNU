{
 "cells": [
  {
   "cell_type": "markdown",
   "metadata": {},
   "source": [
    "FLOW OF CONTROL\n",
    "\n",
    "What is flow of control?\n",
    "\n",
    "It refers to the order in which instructions or statements are executed in a program.\n",
    "\n",
    "By using control flow statements, we can:\n",
    "\n",
    "1. Make decisions (if, else, elif)\n",
    "\n",
    "2. Repeat tasks (for, while)\n",
    "\n",
    "3. Jump in and out of blocks (break, continue, pass, return)"
   ]
  },
  {
   "cell_type": "markdown",
   "metadata": {},
   "source": [
    "CONDITIONAL STATEMENTS\n",
    "\n",
    "These statements are used to execute a \"certain block of code\" only when a \"certain condition\" is met."
   ]
  },
  {
   "cell_type": "markdown",
   "metadata": {},
   "source": [
    "IF ELSE STATEMENTS\n",
    "\n",
    "When we have multiple conditions and we want to execute a different block of code when a certain condition is met we use if-else control statements."
   ]
  },
  {
   "cell_type": "code",
   "execution_count": null,
   "metadata": {},
   "outputs": [],
   "source": [
    "#SYNTAX\n",
    "\n",
    "if condition :\n",
    "    # code\n",
    "elif another_condition : # elif = else if\n",
    "    # code\n",
    "else :\n",
    "    # code\n",
    "\n",
    "#PS: DO NOT FORGET THE COLONS AND INDENTATIONS"
   ]
  },
  {
   "cell_type": "markdown",
   "metadata": {},
   "source": [
    "Q1. Write a program that checks if a number entered by the user is positive, negative, or zero, and prints the result."
   ]
  },
  {
   "cell_type": "code",
   "execution_count": 2,
   "metadata": {},
   "outputs": [
    {
     "name": "stdout",
     "output_type": "stream",
     "text": [
      "Negative\n"
     ]
    }
   ],
   "source": [
    "num=int(input(\"Enter a number.\")) #input function takes the input as a string and then use explicit type casting ie. int() wwe are converting it into an integer\n",
    "\n",
    "if num>0 :\n",
    "    print(\"Positive\")\n",
    "elif num<0 :\n",
    "    print(\"Negative\")\n",
    "else :\n",
    "    print(\"Zero\")"
   ]
  },
  {
   "cell_type": "markdown",
   "metadata": {},
   "source": [
    "Q2.\n",
    "Write a program to input three numbers from the user and print the greatest among them using if-else statements only (no built-in functions)."
   ]
  },
  {
   "cell_type": "code",
   "execution_count": null,
   "metadata": {},
   "outputs": [],
   "source": [
    "a=int(input(\"Enter the first number\"))\n",
    "b=int(input(\"Enter the second number\"))\n",
    "c=int(input(\"Enter the third number\"))\n",
    "\n",
    "if a > b :\n",
    "    if a > c :\n",
    "        print(a,\"is the largest number\")\n",
    "    else:\n",
    "        print(c,\"is the largest number\")\n",
    "else :\n",
    "    print(b,\"is the largest number\")"
   ]
  },
  {
   "cell_type": "markdown",
   "metadata": {},
   "source": [
    "LOOP CONTROL STATEMENTS\n",
    "\n",
    "They are used when we want to repeat a certain block of code multiple times till a condition is met.\n",
    "\n",
    "1. for loops: They are used when we know the number of iterations\n",
    "\n",
    "2. while loops: They are used when we are not sure how many times the loop has to iterate"
   ]
  },
  {
   "cell_type": "code",
   "execution_count": null,
   "metadata": {},
   "outputs": [],
   "source": [
    "#SYNTAX FOR \"for\" LOOPS\n",
    "\n",
    "for i in range(5):\n",
    "    print(i)"
   ]
  },
  {
   "cell_type": "markdown",
   "metadata": {},
   "source": [
    "The \"range\" function takes in three parameters\n",
    "\n",
    "rangge( start_index, end_index, steps )\n"
   ]
  },
  {
   "cell_type": "code",
   "execution_count": null,
   "metadata": {},
   "outputs": [],
   "source": [
    "#SUPPOSE YOU WANT TO PRINT ALL THE EVEN NUMBERS FROM 1 TO 50\n",
    "\n",
    "for num in range(0,51,2):\n",
    "    print(num)"
   ]
  },
  {
   "cell_type": "code",
   "execution_count": null,
   "metadata": {},
   "outputs": [],
   "source": [
    "#ITERATING THROUGH DIFFERENT DATA STRUCTURES\n",
    "\n",
    "#LISTS\n",
    "fruits = [\"apple\", \"banana\", \"cherry\"]\n",
    "for fruit in fruits:\n",
    "    print(fruit)\n",
    "\n",
    "\n",
    "#STRINGS\n",
    "for letter in \"hello\":\n",
    "    print(letter)\n",
    "\n",
    "\n",
    "#DICTIONARIES\n",
    "student = {\n",
    "    \"name\": \"Sarthak\",\n",
    "    \"age\": 69,\n",
    "    \"major\": \"Computer Science: The path to unemployment\",\n",
    "}\n",
    "\n",
    "#WAY 1\n",
    "for key in student:\n",
    "    print(key,student[key])\n",
    "\n",
    "#WAY 2:\n",
    "for key,value in student.items():\n",
    "    print(key,value)\n",
    "\n",
    "#there are other functions too but we dgaf about them :)\n",
    "\n"
   ]
  },
  {
   "cell_type": "code",
   "execution_count": null,
   "metadata": {},
   "outputs": [],
   "source": [
    "#SYNTAX FOR \"while\" LOOPS\n",
    "\n",
    "while condition:\n",
    "    # repeat this block"
   ]
  },
  {
   "cell_type": "markdown",
   "metadata": {},
   "source": [
    "Q1. Write a program that keeps asking the user to enter a number until they enter a negative number."
   ]
  },
  {
   "cell_type": "code",
   "execution_count": null,
   "metadata": {},
   "outputs": [],
   "source": [
    "print(\"Enter your number\")\n",
    "while True:\n",
    "    num=int(input())\n",
    "    if num<0 :\n",
    "        break"
   ]
  },
  {
   "cell_type": "markdown",
   "metadata": {},
   "source": [
    "Write a program that takes an integer input n and uses a while loop to find the sum of digits of n."
   ]
  },
  {
   "cell_type": "code",
   "execution_count": null,
   "metadata": {},
   "outputs": [],
   "source": [
    "num=int(input(\"Enter a number\"))\n",
    "sum=0\n",
    "while num!=0 :\n",
    "    dig=num%10\n",
    "    sum=sum+dig\n",
    "    num=num/10\n",
    "\n",
    "print(\"Sum of the digits is \",sum)"
   ]
  },
  {
   "cell_type": "markdown",
   "metadata": {},
   "source": [
    "MATCH CASE: This is the closest thing to a real switch-case in Python. ( We prefer if-else tho.)"
   ]
  },
  {
   "cell_type": "code",
   "execution_count": null,
   "metadata": {},
   "outputs": [],
   "source": [
    "x = int(input(\"Enter a number: \"))\n",
    "\n",
    "match x:\n",
    "    case 1:\n",
    "        print(\"One\")\n",
    "    case 2:\n",
    "        print(\"Two\")\n",
    "    case 3:\n",
    "        print(\"Three\")\n",
    "    case _:\n",
    "        print(\"Something else\")\n"
   ]
  },
  {
   "cell_type": "markdown",
   "metadata": {},
   "source": [
    "Loop Control Statements (Jumping in Loops)"
   ]
  },
  {
   "cell_type": "code",
   "execution_count": null,
   "metadata": {},
   "outputs": [],
   "source": [
    "\n",
    "# break: exit the loop immediately\n",
    "\n",
    "for i in range(5):\n",
    "    if i == 3:\n",
    "        break\n",
    "\n",
    "# continue: skip current iteration and go to next\n",
    "\n",
    "for i in range(5):\n",
    "    if i == 3:\n",
    "        continue\n",
    "\n",
    "# pass: placeholder that does nothing\n",
    "x=3\n",
    "if x<5:\n",
    "    pass  # do nothing for now\n",
    "\n",
    "# return: exit a function and 'optionally' return a value\n",
    "\n",
    "def add(a, b):\n",
    "    return a + b\n"
   ]
  }
 ],
 "metadata": {
  "kernelspec": {
   "display_name": "Python 3",
   "language": "python",
   "name": "python3"
  },
  "language_info": {
   "codemirror_mode": {
    "name": "ipython",
    "version": 3
   },
   "file_extension": ".py",
   "mimetype": "text/x-python",
   "name": "python",
   "nbconvert_exporter": "python",
   "pygments_lexer": "ipython3",
   "version": "3.13.0"
  }
 },
 "nbformat": 4,
 "nbformat_minor": 2
}
