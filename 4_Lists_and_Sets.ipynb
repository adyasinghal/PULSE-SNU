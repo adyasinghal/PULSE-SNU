{
 "cells": [
  {
   "cell_type": "markdown",
   "id": "aaa7f7bf-b14c-4526-87f8-1253c0048b8e",
   "metadata": {},
   "source": [
    "# Python for Beginners: Lists and Sets  \n",
    "*Storing and Managing Multiple Values in Python*  \n",
    "\n",
    "---\n",
    "\n",
    "## Introduction to Collections  \n",
    "So far, you've worked with variables that store single values:\n",
    "\n",
    "```python\n",
    "student_name = \"Alex\"  # String variable\n",
    "student_age = 20       # Integer variable\n",
    "is_enrolled = True    # Boolean variable\n",
    "```\n",
    "\n",
    "But what if you want to store multiple values in one variable?\n",
    "\n",
    "Python provides Lists and Sets to handle collections of data."
   ]
  },
  {
   "cell_type": "markdown",
   "id": "ba7088cc-ad3a-439f-bd16-ec65bf765de4",
   "metadata": {},
   "source": [
    "# 1. Lists in Python\n",
    "*1.1 What is a List?*\n",
    "\n",
    "A list is an ordered, mutable collection of items that:\n",
    "\n",
    "   * Can contain different data types\n",
    "\n",
    "   * Allows duplicate values\n",
    "\n",
    "   * Maintains insertion order\n",
    "\n",
    "---\n",
    "*1.2 Creating Lists*\n",
    "```python\n",
    "# List of strings\n",
    "fruits = [\"apple\", \"banana\", \"cherry\"]\n",
    "\n",
    "# List of numbers\n",
    "primes = [2, 3, 5, 7, 11]\n",
    "\n",
    "# Mixed data types\n",
    "employee_record = [\"John Doe\", 35, \"Developer\", True]\n",
    "\n",
    "# Empty list\n",
    "empty_list = []\n",
    "```\n",
    "\n",
    "---\n",
    "*1.3 Accessing List Elements*\n",
    "Lists use zero-based indexing"
   ]
  },
  {
   "cell_type": "code",
   "execution_count": 2,
   "id": "efd8de82-29af-45b0-8b61-28e705db4807",
   "metadata": {},
   "outputs": [
    {
     "name": "stdout",
     "output_type": "stream",
     "text": [
      "red\n",
      "blue\n",
      "yellow\n"
     ]
    }
   ],
   "source": [
    "\n",
    "colors = [\"red\", \"green\", \"blue\", \"yellow\"]\n",
    "\n",
    "print(colors[0])   # First item: \"red\"\n",
    "print(colors[2])   # Third item: \"blue\"\n",
    "print(colors[-1])  # Last item: \"yellow\" (negative indexing)"
   ]
  },
  {
   "cell_type": "markdown",
   "id": "e29503d4-e237-4d1a-b67b-40c48c2d6953",
   "metadata": {},
   "source": [
    "---\n",
    "*1.4 Modifying List Elements*\n",
    "\n",
    "Lists are \"mutable\" - you can change their contents:"
   ]
  },
  {
   "cell_type": "code",
   "execution_count": 3,
   "id": "1cd73f4f-d018-4994-849c-c07e90beaa66",
   "metadata": {},
   "outputs": [
    {
     "name": "stdout",
     "output_type": "stream",
     "text": [
      "['red', 'emerald', 'blue', 'yellow']\n"
     ]
    }
   ],
   "source": [
    "colors[1] = \"emerald\"  # Change second element\n",
    "print(colors)  # [\"red\", \"emerald\", \"blue\", \"yellow\"]"
   ]
  },
  {
   "cell_type": "markdown",
   "id": "49a94ed0-41ca-4fd3-bea5-7d6928a7225a",
   "metadata": {},
   "source": [
    "---\n",
    "*1.5 Important List Methods*\n",
    "\n",
    "`Adding Elements`"
   ]
  },
  {
   "cell_type": "code",
   "execution_count": 4,
   "id": "0b691878-fb13-472a-ac1d-cc60f1902be1",
   "metadata": {},
   "outputs": [
    {
     "name": "stdout",
     "output_type": "stream",
     "text": [
      "['red', 'pink', 'emerald', 'blue', 'yellow', 'purple']\n"
     ]
    }
   ],
   "source": [
    "colors.append(\"purple\")  # Adds to end\n",
    "colors.insert(1, \"pink\") # Inserts at index 1\n",
    "print(colors)  # [\"red\", \"pink\", \"emerald\", \"blue\", \"yellow\", \"purple\"]"
   ]
  },
  {
   "cell_type": "markdown",
   "id": "e47a53b3-c9c2-43fc-bcc1-bbd60a783541",
   "metadata": {},
   "source": [
    "`Removing Elements`"
   ]
  },
  {
   "cell_type": "code",
   "execution_count": 5,
   "id": "b3eb525d-c1d1-4c5b-a809-40a35c8bf392",
   "metadata": {},
   "outputs": [
    {
     "name": "stdout",
     "output_type": "stream",
     "text": [
      "['red', 'pink', 'yellow', 'purple']\n",
      "emerald\n"
     ]
    }
   ],
   "source": [
    "colors.remove(\"blue\")    # Removes first occurrence of \"blue\"\n",
    "popped = colors.pop(2)   # Removes and returns item at index 2 (\"emerald\")\n",
    "print(colors)  # [\"red\", \"pink\", \"yellow\", \"purple\"]\n",
    "print(popped)  # \"emerald\""
   ]
  },
  {
   "cell_type": "markdown",
   "id": "4a71319e-95aa-416a-8fad-5bb6e7571fe5",
   "metadata": {},
   "source": [
    "`Other useful methods`\n"
   ]
  },
  {
   "cell_type": "code",
   "execution_count": 9,
   "id": "e2edbac0-c5bc-4bc2-a690-4817525cbaa7",
   "metadata": {},
   "outputs": [
    {
     "name": "stdout",
     "output_type": "stream",
     "text": [
      "[1, 2, 2, 5, 8]\n",
      "[8, 5, 2, 2, 1]\n",
      "2\n",
      "5\n"
     ]
    }
   ],
   "source": [
    "numbers = [5, 2, 8, 2, 1]\n",
    "\n",
    "numbers.sort() # Sorts in place: [1, 2, 2, 5, 8]\n",
    "print(numbers)\n",
    "numbers.reverse() # Reverses order: [8, 5, 2, 2, 1]\n",
    "print(numbers)\n",
    "count = numbers.count(2) # Counts occurrences of 2: 2\n",
    "print(count)\n",
    "length = len(numbers)    # Gets length: 5\n",
    "print(length)"
   ]
  },
  {
   "cell_type": "markdown",
   "id": "fca35872-ef18-4022-986c-9887a6606680",
   "metadata": {},
   "source": [
    "---\n",
    "\n",
    "*1.6 List Slicing*"
   ]
  },
  {
   "cell_type": "code",
   "execution_count": 8,
   "id": "31070645-2cdf-4b4a-8851-c80bd6a76181",
   "metadata": {},
   "outputs": [
    {
     "name": "stdout",
     "output_type": "stream",
     "text": [
      "['b', 'c', 'd']\n",
      "['a', 'b', 'c']\n",
      "['d', 'e', 'f']\n",
      "['a', 'c', 'e']\n"
     ]
    }
   ],
   "source": [
    "letters = ['a', 'b', 'c', 'd', 'e', 'f']\n",
    "\n",
    "print(letters[1:4])  # ['b', 'c', 'd'] (index 1 to 3)\n",
    "print(letters[:3])   # ['a', 'b', 'c'] (start to index 2)\n",
    "print(letters[3:])   # ['d', 'e', 'f'] (index 3 to end)\n",
    "print(letters[::2])  # ['a', 'c', 'e'] (every second item)"
   ]
  },
  {
   "cell_type": "markdown",
   "id": "9eecfd9b-724e-48e5-9b17-88c5c17ac74e",
   "metadata": {},
   "source": [
    "# 2. Sets in Python\n",
    "\n",
    "*2.1 What is a Set?*\n",
    "\n",
    "A set is an unordered, mutable collection that:\n",
    "\n",
    "* Contains only unique elements\n",
    "\n",
    "* Doesn't maintain insertion order\n",
    "\n",
    "* Optimized for membership tests\n",
    "\n",
    "---\n",
    "*2.2 Creating Sets*\n"
   ]
  },
  {
   "cell_type": "code",
   "execution_count": 10,
   "id": "22dd822f-b703-4031-88f6-6120fcf9fb7a",
   "metadata": {},
   "outputs": [
    {
     "name": "stdout",
     "output_type": "stream",
     "text": [
      "{1, 2, 3}\n"
     ]
    }
   ],
   "source": [
    "# Set of strings\n",
    "vowels = {'a', 'e', 'i', 'o', 'u'}\n",
    "\n",
    "# Set from a list (removes duplicates)\n",
    "numbers = set([1, 2, 2, 3, 3, 3])# {1, 2, 3}\n",
    "print(numbers)\n",
    "\n",
    "# Empty set\n",
    "empty_set = set()  # Note: {} creates an empty dictionary!"
   ]
  },
  {
   "cell_type": "markdown",
   "id": "6f398e1f-d423-48a8-9cfd-371409664132",
   "metadata": {},
   "source": [
    "---\n",
    "*2.3 Set Operations*\n",
    "\n",
    "* Adding/Removing Elements"
   ]
  },
  {
   "cell_type": "code",
   "execution_count": 11,
   "id": "c4caace0-635b-4249-a2a2-4a45e2e8bb96",
   "metadata": {},
   "outputs": [
    {
     "name": "stdout",
     "output_type": "stream",
     "text": [
      "{'y', 'a', 'e', 'i', 'u', 'o'}\n",
      "{'y', 'a', 'e', 'u', 'o'}\n",
      "y\n"
     ]
    }
   ],
   "source": [
    "vowels.add('y')# Adds 'y' to the set\n",
    "print(vowels)\n",
    "vowels.remove('i')    # Removes 'i' (raises error if missing)\n",
    "print(vowels)\n",
    "vowels.discard('x')   # Removes 'x' if present (no error)\n",
    "popped = vowels.pop() # Removes and returns arbitrary element\n",
    "print(popped)"
   ]
  },
  {
   "cell_type": "markdown",
   "id": "8dcc47e1-2b5f-4606-b466-cc8398ce83fe",
   "metadata": {},
   "source": [
    "* Set Theory Operations"
   ]
  },
  {
   "cell_type": "code",
   "execution_count": 13,
   "id": "c2d106c7-fcc8-45cb-807b-0eafdd9578e7",
   "metadata": {},
   "outputs": [
    {
     "name": "stdout",
     "output_type": "stream",
     "text": [
      "{1, 2, 3, 4, 5, 6}\n",
      "{3, 4}\n",
      "{1, 2}\n",
      "{1, 2, 5, 6}\n"
     ]
    }
   ],
   "source": [
    "A = {1, 2, 3, 4}\n",
    "B = {3, 4, 5, 6}\n",
    "\n",
    "print(A | B)  # Union: {1, 2, 3, 4, 5, 6}\n",
    "print(A & B)  # Intersection: {3, 4}\n",
    "print(A - B)  # Difference: {1, 2}\n",
    "print(A ^ B)  # Symmetric difference: {1, 2, 5, 6}"
   ]
  },
  {
   "cell_type": "markdown",
   "id": "0f0e8484-a2c8-4d61-92f2-8d8497cb094a",
   "metadata": {},
   "source": [
    "---\n",
    "*2.4 Important Set Methods*"
   ]
  },
  {
   "cell_type": "code",
   "execution_count": 14,
   "id": "2dae2e6e-bd2b-47fb-b952-00505b90bc48",
   "metadata": {},
   "outputs": [
    {
     "name": "stdout",
     "output_type": "stream",
     "text": [
      "{1, 2, 3, 4, 5}\n",
      "set()\n",
      "False\n",
      "0\n"
     ]
    }
   ],
   "source": [
    "s = {1, 2, 3}\n",
    "\n",
    "s.update([4, 5]) # Add multiple items: {1, 2, 3, 4, 5}\n",
    "print(s)\n",
    "s.clear()            # Remove all elements: set()\n",
    "print(s)\n",
    "print(2 in s)        # Membership test: False\n",
    "print(len(s))        # Number of elements: 0"
   ]
  },
  {
   "cell_type": "markdown",
   "id": "458b4c47-974c-424d-8ea5-51431e36d98c",
   "metadata": {},
   "source": [
    " * Visit https://www.geeksforgeeks.org/python/python-data-structures/ for more detailed information on lists, sets or other data structures"
   ]
  }
 ],
 "metadata": {
  "kernelspec": {
   "display_name": "Python 3 (ipykernel)",
   "language": "python",
   "name": "python3"
  },
  "language_info": {
   "codemirror_mode": {
    "name": "ipython",
    "version": 3
   },
   "file_extension": ".py",
   "mimetype": "text/x-python",
   "name": "python",
   "nbconvert_exporter": "python",
   "pygments_lexer": "ipython3",
   "version": "3.13.1"
  }
 },
 "nbformat": 4,
 "nbformat_minor": 5
}
