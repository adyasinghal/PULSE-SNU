{
 "cells": [
  {
   "cell_type": "markdown",
   "id": "d523af03-5618-44d5-80b8-96e399f34125",
   "metadata": {},
   "source": [
    "# Basic Modules( Math and Random)"
   ]
  },
  {
   "cell_type": "markdown",
   "id": "3f4ce10b-d42f-4fb2-9e0c-2f906b34f41b",
   "metadata": {},
   "source": [
    "A module is a file containing Python definitions and statements.The file name is the module name with the suffix .py appended.\n",
    "Python comes with many standard modules, like math, random, datetime, etc."
   ]
  },
  {
   "cell_type": "markdown",
   "id": "c0fb4914-24a3-4d12-abc8-c0ea7c94ccbb",
   "metadata": {},
   "source": [
    "## Use a Module"
   ]
  },
  {
   "cell_type": "markdown",
   "id": "e2004488-5fb3-433e-9455-83f595a46b83",
   "metadata": {},
   "source": [
    "Ex->"
   ]
  },
  {
   "cell_type": "code",
   "execution_count": 2,
   "id": "451f7d64-f18a-40ab-a435-ee4c54c3014e",
   "metadata": {},
   "outputs": [
    {
     "name": "stdout",
     "output_type": "stream",
     "text": [
      "5.0\n"
     ]
    }
   ],
   "source": [
    "import math\n",
    "\n",
    "result = math.sqrt(25)\n",
    "print(result) "
   ]
  },
  {
   "cell_type": "markdown",
   "id": "f8815e72-4d99-46e9-80c0-235221fd7774",
   "metadata": {},
   "source": [
    "If you only need a part of a module:"
   ]
  },
  {
   "cell_type": "code",
   "execution_count": 3,
   "id": "54181c71-97bb-4a25-8856-71e637c02cc0",
   "metadata": {},
   "outputs": [
    {
     "name": "stdout",
     "output_type": "stream",
     "text": [
      "4.0\n",
      "3.141592653589793\n"
     ]
    }
   ],
   "source": [
    "from math import sqrt, pi\n",
    "\n",
    "print(sqrt(16))  \n",
    "print(pi)       "
   ]
  },
  {
   "cell_type": "markdown",
   "id": "9ac3f80b-b82e-48aa-8e03-85435c2956d7",
   "metadata": {},
   "source": [
    "Renaming a module(aliasing):"
   ]
  },
  {
   "cell_type": "code",
   "execution_count": 4,
   "id": "e2786786-0a12-4947-bc8b-1742961564ff",
   "metadata": {},
   "outputs": [
    {
     "name": "stdout",
     "output_type": "stream",
     "text": [
      "[1 2 3]\n"
     ]
    }
   ],
   "source": [
    "import numpy as np\n",
    "\n",
    "arr = np.array([1, 2, 3])\n",
    "print(arr)"
   ]
  },
  {
   "cell_type": "markdown",
   "id": "a01d71a4-0234-4c1d-a4fc-4b392fec7f6f",
   "metadata": {},
   "source": [
    "## Math Module "
   ]
  },
  {
   "cell_type": "markdown",
   "id": "bc2ef44f-4632-4c72-adef-4278da4438f6",
   "metadata": {},
   "source": [
    "1.) Square Root"
   ]
  },
  {
   "cell_type": "code",
   "execution_count": 5,
   "id": "c3f959dd-7d05-4e66-b21f-6f63ff0f3474",
   "metadata": {},
   "outputs": [
    {
     "name": "stdout",
     "output_type": "stream",
     "text": [
      "5.0\n"
     ]
    }
   ],
   "source": [
    "import math\n",
    "\n",
    "print(math.sqrt(25))"
   ]
  },
  {
   "cell_type": "markdown",
   "id": "9bdec6bb-2f3a-42ab-87dd-cfb4e1bda6ba",
   "metadata": {},
   "source": [
    "2.) Power and Exponent"
   ]
  },
  {
   "cell_type": "code",
   "execution_count": 6,
   "id": "00a5f63d-19c7-4b7e-b9f2-9933e44822ca",
   "metadata": {},
   "outputs": [
    {
     "name": "stdout",
     "output_type": "stream",
     "text": [
      "8.0\n",
      "7.38905609893065\n"
     ]
    }
   ],
   "source": [
    "import math\n",
    "\n",
    "print(math.pow(2, 3))   \n",
    "print(math.exp(2))     # e^2"
   ]
  },
  {
   "cell_type": "markdown",
   "id": "dd007d8e-8ea8-4bae-9b58-6c606a0cc76e",
   "metadata": {},
   "source": [
    "3.)Logarithms"
   ]
  },
  {
   "cell_type": "code",
   "execution_count": 7,
   "id": "3410dc39-0e4f-448b-8542-16f107ec8c77",
   "metadata": {},
   "outputs": [
    {
     "name": "stdout",
     "output_type": "stream",
     "text": [
      "2.302585092994046\n",
      "2.0\n",
      "3.0\n"
     ]
    }
   ],
   "source": [
    "import math\n",
    "\n",
    "print(math.log(10))       # Natural log (base e)\n",
    "print(math.log10(100))    # Log base 10 \n",
    "print(math.log2(8))       # Log base 2"
   ]
  },
  {
   "cell_type": "markdown",
   "id": "3ef97080-6a9d-4b6a-a803-71937e0472fe",
   "metadata": {},
   "source": [
    "4.) Trignometric Functions"
   ]
  },
  {
   "cell_type": "code",
   "execution_count": 8,
   "id": "8106ec78-6a4e-4874-9d7f-c709c8d17378",
   "metadata": {},
   "outputs": [
    {
     "name": "stdout",
     "output_type": "stream",
     "text": [
      "1.0\n",
      "1.0\n",
      "0.9999999999999999\n"
     ]
    }
   ],
   "source": [
    "import math\n",
    "# Angles in radians\n",
    "print(math.sin(math.pi/2))   \n",
    "print(math.cos(0))          \n",
    "print(math.tan(math.pi/4)) "
   ]
  },
  {
   "cell_type": "markdown",
   "id": "5c582536-752b-4447-bd2d-45035a6d1221",
   "metadata": {},
   "source": [
    "5.) Rounding "
   ]
  },
  {
   "cell_type": "code",
   "execution_count": 9,
   "id": "36ec4494-de76-47ca-bdda-c493e9afe8f8",
   "metadata": {},
   "outputs": [
    {
     "name": "stdout",
     "output_type": "stream",
     "text": [
      "3\n",
      "4\n"
     ]
    }
   ],
   "source": [
    "import math\n",
    "\n",
    "print(math.floor(3.7))   \n",
    "print(math.ceil(3.2))    "
   ]
  },
  {
   "cell_type": "markdown",
   "id": "b20a2909-49a9-4134-99e6-ff9098a0a5ff",
   "metadata": {},
   "source": [
    "6.) Greatest Common Divisor and Factorial"
   ]
  },
  {
   "cell_type": "code",
   "execution_count": 10,
   "id": "85bdbc56-f1bf-47b5-b238-2b97498be194",
   "metadata": {},
   "outputs": [
    {
     "name": "stdout",
     "output_type": "stream",
     "text": [
      "6\n",
      "120\n"
     ]
    }
   ],
   "source": [
    "import math\n",
    "\n",
    "print(math.gcd(12, 18))    \n",
    "print(math.factorial(5)) "
   ]
  },
  {
   "cell_type": "markdown",
   "id": "418fd3bf-16a4-4d07-9b82-ae7dbe94f926",
   "metadata": {},
   "source": [
    "## Random Module"
   ]
  },
  {
   "cell_type": "markdown",
   "id": "e89b351f-ce0b-4927-bbab-3ff63916e358",
   "metadata": {},
   "source": [
    "1. Generate a random float (0 ≤ x < 1)"
   ]
  },
  {
   "cell_type": "code",
   "execution_count": 11,
   "id": "65f3ebad-1a69-46b4-a56c-de3ebfffd519",
   "metadata": {},
   "outputs": [
    {
     "name": "stdout",
     "output_type": "stream",
     "text": [
      "0.3968451496353399\n"
     ]
    }
   ],
   "source": [
    "import random\n",
    "\n",
    "print(random.random()) "
   ]
  },
  {
   "cell_type": "markdown",
   "id": "31c43344-3416-4734-aa7d-3cd97e6d82a7",
   "metadata": {},
   "source": [
    "2. Random integer in a range"
   ]
  },
  {
   "cell_type": "code",
   "execution_count": 12,
   "id": "c8253662-9a6d-41e2-9777-336a3c16ca69",
   "metadata": {},
   "outputs": [
    {
     "name": "stdout",
     "output_type": "stream",
     "text": [
      "5\n"
     ]
    }
   ],
   "source": [
    "import random\n",
    "\n",
    "print(random.randint(1, 10))"
   ]
  },
  {
   "cell_type": "markdown",
   "id": "7a92419e-16cb-4a0a-af96-11c19031e0ca",
   "metadata": {},
   "source": [
    "3. Random number from a range with step"
   ]
  },
  {
   "cell_type": "code",
   "execution_count": 13,
   "id": "3a97f5ef-4da0-4f09-8096-968a4556b635",
   "metadata": {},
   "outputs": [
    {
     "name": "stdout",
     "output_type": "stream",
     "text": [
      "1\n"
     ]
    }
   ],
   "source": [
    "import random\n",
    "\n",
    "print(random.randrange(1, 10, 2))"
   ]
  },
  {
   "cell_type": "markdown",
   "id": "9fe75d45-62df-43b9-a73d-0352d1ad2c5d",
   "metadata": {},
   "source": [
    "4. Random choice from a list"
   ]
  },
  {
   "cell_type": "code",
   "execution_count": 15,
   "id": "c1716254-cf75-43bc-97c2-7aa57b424d04",
   "metadata": {},
   "outputs": [
    {
     "name": "stdout",
     "output_type": "stream",
     "text": [
      "blue\n"
     ]
    }
   ],
   "source": [
    "import random\n",
    "\n",
    "colors = [\"red\", \"blue\", \"green\", \"yellow\"]\n",
    "print(random.choice(colors))"
   ]
  },
  {
   "cell_type": "markdown",
   "id": "7c50fe41-04eb-4c6d-9825-6e3266296fa6",
   "metadata": {},
   "source": [
    "5. Random float in a given range"
   ]
  },
  {
   "cell_type": "code",
   "execution_count": 16,
   "id": "0cdda135-921f-4362-97c8-5887a0ba1559",
   "metadata": {},
   "outputs": [
    {
     "name": "stdout",
     "output_type": "stream",
     "text": [
      "3.488608417927542\n"
     ]
    }
   ],
   "source": [
    "import random\n",
    "\n",
    "print(random.uniform(1.5, 5.5))"
   ]
  },
  {
   "cell_type": "code",
   "execution_count": null,
   "id": "aba3cc4f-b2c6-4e6f-aad0-d40bb7d31f18",
   "metadata": {},
   "outputs": [],
   "source": []
  }
 ],
 "metadata": {
  "kernelspec": {
   "display_name": "Python 3 (ipykernel)",
   "language": "python",
   "name": "python3"
  },
  "language_info": {
   "codemirror_mode": {
    "name": "ipython",
    "version": 3
   },
   "file_extension": ".py",
   "mimetype": "text/x-python",
   "name": "python",
   "nbconvert_exporter": "python",
   "pygments_lexer": "ipython3",
   "version": "3.12.7"
  }
 },
 "nbformat": 4,
 "nbformat_minor": 5
}
